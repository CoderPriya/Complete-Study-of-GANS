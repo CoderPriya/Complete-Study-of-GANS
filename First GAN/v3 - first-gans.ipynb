{
 "cells": [
  {
   "cell_type": "markdown",
   "metadata": {},
   "source": [
    " GAN = minimax game which G(generator) wants to minimize V while D(Discriminator) wants to maximize it."
   ]
  },
  {
   "cell_type": "code",
   "execution_count": 1,
   "metadata": {},
   "outputs": [],
   "source": [
    "import numpy as np\n",
    "\n",
    "%matplotlib inline\n",
    "import matplotlib.pyplot as plt"
   ]
  },
  {
   "cell_type": "code",
   "execution_count": 2,
   "metadata": {
    "_cell_guid": "b1076dfc-b9ad-4769-8c92-a6c4dae69d19",
    "_uuid": "8f2839f25d086af736a60e9eeb907d3b93b6e0e5"
   },
   "outputs": [
    {
     "name": "stderr",
     "output_type": "stream",
     "text": [
      "Using TensorFlow backend.\n"
     ]
    }
   ],
   "source": [
    "from keras.datasets import mnist\n",
    "from keras.models import Sequential\n",
    "from keras.layers import Dense, LeakyReLU, BatchNormalization\n",
    "from keras.optimizers import Adam\n",
    "from keras import initializers\n",
    "\n",
    "import warnings\n",
    "warnings.filterwarnings(\"ignore\")"
   ]
  },
  {
   "cell_type": "code",
   "execution_count": 3,
   "metadata": {
    "_cell_guid": "79c7e3d0-c299-4dcb-8224-4455121ee9b0",
    "_uuid": "d629ff2d2480ee46fbb7e2d37f6b5fab8052498a"
   },
   "outputs": [
    {
     "name": "stdout",
     "output_type": "stream",
     "text": [
      "Downloading data from https://s3.amazonaws.com/img-datasets/mnist.npz\n",
      "11493376/11490434 [==============================] - 1s 0us/step\n"
     ]
    }
   ],
   "source": [
    "(X_train, y_train), (X_test, y_test) = mnist.load_data()\n",
    "\n",
    "# We only concerned with 'X_train' data\n",
    "# It can be rewritten as (X_train,_),(_,_) = mnist.load_data()\n",
    "\n",
    "prev = X_train.shape"
   ]
  },
  {
   "cell_type": "code",
   "execution_count": 4,
   "metadata": {},
   "outputs": [
    {
     "name": "stdout",
     "output_type": "stream",
     "text": [
      "(60000, 28, 28)\n",
      "(60000, 784)\n"
     ]
    }
   ],
   "source": [
    "X_train = X_train.reshape(60000, 28*28)\n",
    "\n",
    "print(prev)\n",
    "print(X_train.shape)"
   ]
  },
  {
   "cell_type": "code",
   "execution_count": 5,
   "metadata": {},
   "outputs": [],
   "source": [
    "# normalizing the inputs (-1, 1)\n",
    "\n",
    "X_train = (X_train.astype('float32') / 255 - 0.5) * 2\n",
    "# we have pixels from 0-255, dividing by 255 leads to normalize them in range 0-1\n",
    "#(-0.5) * 2 shift it to (-1,1) for tanh activation"
   ]
  },
  {
   "cell_type": "markdown",
   "metadata": {},
   "source": [
    "The first model is called a Generator and it aims to generate new data similar to the expected one."
   ]
  },
  {
   "cell_type": "markdown",
   "metadata": {},
   "source": [
    "## Generator"
   ]
  },
  {
   "cell_type": "markdown",
   "metadata": {},
   "source": [
    "**Generator try to fool by generating real-looking images**"
   ]
  },
  {
   "cell_type": "markdown",
   "metadata": {},
   "source": [
    "* Input to the generator is a series of randomly generated numbers called latent sample. \n",
    "* It tries to produce data that come from some probability distribution. \n",
    "* The generator network takes random noise as input, then runs that noise through a differentiable function to transform the noise and reshape it to have recognizable structure. \n",
    "* The output of the generator network ia a realistic image. Without training, the generator produces garbage images only."
   ]
  },
  {
   "cell_type": "code",
   "execution_count": 6,
   "metadata": {},
   "outputs": [
    {
     "name": "stdout",
     "output_type": "stream",
     "text": [
      "WARNING:tensorflow:From /opt/conda/lib/python3.6/site-packages/tensorflow/python/framework/op_def_library.py:263: colocate_with (from tensorflow.python.framework.ops) is deprecated and will be removed in a future version.\n",
      "Instructions for updating:\n",
      "Colocations handled automatically by placer.\n"
     ]
    }
   ],
   "source": [
    "latent_dim = 100\n",
    "# Latent dimensions are dimensions which we do not directly observe, but which we assume to exist (Hidden)\n",
    "# We use this in reference of generator, it create images from latent dimension whichwe  do not directly observe, but assume to exist\n",
    "\n",
    "# image dimension 28x28\n",
    "img_dim = 784\n",
    "\n",
    "init = initializers.RandomNormal(stddev=0.02)\n",
    "# stddev = Standard deviation of the random values to generate\n",
    "\n",
    "# The neural network needs to start with some weights and then iteratively update them to better values. \n",
    "# kernel_initializer is term for which statistical distribution or function to use for initialising the weights.\n",
    "# Ref - https://datascience.stackexchange.com/questions/37378/what-are-kernel-initializers-and-what-is-their-significance\n",
    "\n",
    "# Generator network\n",
    "\n",
    "# sequential model simply allows us to stitch layers together\n",
    "generator = Sequential()\n",
    "\n",
    "# Input layer and hidden layer 1\n",
    "generator.add(Dense(128, input_shape=(latent_dim,), kernel_initializer=init))\n",
    "generator.add(LeakyReLU(alpha=0.2))\n",
    "generator.add(BatchNormalization(momentum=0.8))\n",
    "\n",
    "# A dense layer is simply a fully connected layer of neurons.\n",
    "\n",
    "# The LeakyReLU remove problem of \"dying ReLU\" and alpha is negative slope constant\n",
    "# Deep dive - https://towardsdatascience.com/complete-guide-of-activation-functions-34076e95d044\n",
    "\n",
    "# batchnormalization layer will transform inputs so they will have a mean of zero and a standard deviation of one.\n",
    "# “momentum” in batch norm allows you to control how much of the statistics from the previous mini batch to include when the update is calculated\n",
    "# Deep dive - https://machinelearningmastery.com/how-to-accelerate-learning-of-deep-neural-networks-with-batch-normalization/\n",
    "\n",
    "# Hidden layer 2\n",
    "generator.add(Dense(256))\n",
    "generator.add(LeakyReLU(alpha=0.2))\n",
    "generator.add(BatchNormalization(momentum=0.8))\n",
    "\n",
    "# Hidden layer 3\n",
    "generator.add(Dense(512))\n",
    "generator.add(LeakyReLU(alpha=0.2))\n",
    "generator.add(BatchNormalization(momentum=0.8))\n",
    "\n",
    "# Output layer \n",
    "generator.add(Dense(img_dim, activation='tanh'))"
   ]
  },
  {
   "cell_type": "code",
   "execution_count": 7,
   "metadata": {},
   "outputs": [
    {
     "name": "stdout",
     "output_type": "stream",
     "text": [
      "_________________________________________________________________\n",
      "Layer (type)                 Output Shape              Param #   \n",
      "=================================================================\n",
      "dense_1 (Dense)              (None, 128)               12928     \n",
      "_________________________________________________________________\n",
      "leaky_re_lu_1 (LeakyReLU)    (None, 128)               0         \n",
      "_________________________________________________________________\n",
      "batch_normalization_1 (Batch (None, 128)               512       \n",
      "_________________________________________________________________\n",
      "dense_2 (Dense)              (None, 256)               33024     \n",
      "_________________________________________________________________\n",
      "leaky_re_lu_2 (LeakyReLU)    (None, 256)               0         \n",
      "_________________________________________________________________\n",
      "batch_normalization_2 (Batch (None, 256)               1024      \n",
      "_________________________________________________________________\n",
      "dense_3 (Dense)              (None, 512)               131584    \n",
      "_________________________________________________________________\n",
      "leaky_re_lu_3 (LeakyReLU)    (None, 512)               0         \n",
      "_________________________________________________________________\n",
      "batch_normalization_3 (Batch (None, 512)               2048      \n",
      "_________________________________________________________________\n",
      "dense_4 (Dense)              (None, 784)               402192    \n",
      "=================================================================\n",
      "Total params: 583,312\n",
      "Trainable params: 581,520\n",
      "Non-trainable params: 1,792\n",
      "_________________________________________________________________\n"
     ]
    }
   ],
   "source": [
    "generator.summary()"
   ]
  },
  {
   "cell_type": "markdown",
   "metadata": {},
   "source": [
    "## Descriminator"
   ]
  },
  {
   "cell_type": "markdown",
   "metadata": {},
   "source": [
    "**Discriminator try to distinguish between real and fake images**"
   ]
  },
  {
   "cell_type": "markdown",
   "metadata": {},
   "source": [
    "* Discriminator is a classifier trained using the supervised learning. \n",
    "* It classifies whether an image is real (1) or is fake (0)."
   ]
  },
  {
   "cell_type": "code",
   "execution_count": 8,
   "metadata": {},
   "outputs": [],
   "source": [
    "discriminator = Sequential()\n",
    "\n",
    "# Input layer and hidden layer 1\n",
    "discriminator.add(Dense(512, input_shape=(img_dim,), kernel_initializer=init))\n",
    "discriminator.add(LeakyReLU(alpha=0.2))\n",
    "\n",
    "# Hidden layer 2\n",
    "discriminator.add(Dense(256))\n",
    "discriminator.add(LeakyReLU(alpha=0.2))\n",
    "\n",
    "# Hidden layer 3\n",
    "discriminator.add(Dense(128))\n",
    "discriminator.add(LeakyReLU(alpha=0.2))\n",
    "\n",
    "# Output layer\n",
    "discriminator.add(Dense(1, activation='sigmoid'))"
   ]
  },
  {
   "cell_type": "code",
   "execution_count": 9,
   "metadata": {},
   "outputs": [
    {
     "name": "stdout",
     "output_type": "stream",
     "text": [
      "_________________________________________________________________\n",
      "Layer (type)                 Output Shape              Param #   \n",
      "=================================================================\n",
      "dense_5 (Dense)              (None, 512)               401920    \n",
      "_________________________________________________________________\n",
      "leaky_re_lu_4 (LeakyReLU)    (None, 512)               0         \n",
      "_________________________________________________________________\n",
      "dense_6 (Dense)              (None, 256)               131328    \n",
      "_________________________________________________________________\n",
      "leaky_re_lu_5 (LeakyReLU)    (None, 256)               0         \n",
      "_________________________________________________________________\n",
      "dense_7 (Dense)              (None, 128)               32896     \n",
      "_________________________________________________________________\n",
      "leaky_re_lu_6 (LeakyReLU)    (None, 128)               0         \n",
      "_________________________________________________________________\n",
      "dense_8 (Dense)              (None, 1)                 129       \n",
      "=================================================================\n",
      "Total params: 566,273\n",
      "Trainable params: 566,273\n",
      "Non-trainable params: 0\n",
      "_________________________________________________________________\n"
     ]
    }
   ],
   "source": [
    "discriminator.summary()"
   ]
  },
  {
   "cell_type": "code",
   "execution_count": 10,
   "metadata": {},
   "outputs": [],
   "source": [
    "optimizer = Adam(lr=0.0002, beta_1=0.5)\n",
    "discriminator.compile(optimizer=optimizer, loss='binary_crossentropy', metrics=['accuracy'])\n",
    "\n",
    "# Since we have to predict either fake or real (i.e. two classes)"
   ]
  },
  {
   "cell_type": "markdown",
   "metadata": {},
   "source": [
    "* we use both generaor and discriminator model here\n",
    "* Sets its trainability to False, meaning that during the adversarial training, it will not be training\n",
    "* Reason behind set trainable=False, Generator is consistently getting better, but discriminator will remain the same."
   ]
  },
  {
   "cell_type": "code",
   "execution_count": 11,
   "metadata": {},
   "outputs": [],
   "source": [
    "discriminator.trainable = False\n",
    "\n",
    "d_g = Sequential()\n",
    "d_g.add(generator)\n",
    "d_g.add(discriminator)\n",
    "d_g.compile(optimizer=optimizer, loss='binary_crossentropy', metrics=['accuracy'])"
   ]
  },
  {
   "cell_type": "markdown",
   "metadata": {},
   "source": [
    "### Workflow"
   ]
  },
  {
   "cell_type": "markdown",
   "metadata": {},
   "source": [
    "1) Set the discriminator trainable\n",
    "\n",
    "2) Train the discriminator with the real MNIST digit images and the images generated by the generator to classify the real and fake images.\n",
    "\n",
    "3) Set the discriminator non-trainable\n",
    "\n",
    "4) Train the generator as part of the GAN. We feed latent samples into the GAN and let the generator to produce digit images and use the discriminator to classify the image"
   ]
  },
  {
   "cell_type": "code",
   "execution_count": 12,
   "metadata": {},
   "outputs": [
    {
     "name": "stdout",
     "output_type": "stream",
     "text": [
      "_________________________________________________________________\n",
      "Layer (type)                 Output Shape              Param #   \n",
      "=================================================================\n",
      "sequential_1 (Sequential)    (None, 784)               583312    \n",
      "_________________________________________________________________\n",
      "sequential_2 (Sequential)    (None, 1)                 566273    \n",
      "=================================================================\n",
      "Total params: 1,149,585\n",
      "Trainable params: 581,520\n",
      "Non-trainable params: 568,065\n",
      "_________________________________________________________________\n"
     ]
    }
   ],
   "source": [
    "d_g.summary()"
   ]
  },
  {
   "cell_type": "code",
   "execution_count": 13,
   "metadata": {},
   "outputs": [],
   "source": [
    "epochs = 100\n",
    "batch_size = 64"
   ]
  },
  {
   "cell_type": "markdown",
   "metadata": {},
   "source": [
    "#### Basic Idea"
   ]
  },
  {
   "cell_type": "markdown",
   "metadata": {},
   "source": [
    "* When we feed a latent sample to the GAN, the generator internally produces a digit image which is then passed to the discriminator for classification. If the generator does a good job, the discriminator returns a value close to 1\n",
    "* However, the generator initially produces garbage images, and the loss value is high. So, the back-propagation updates the generator’s weights to produce more realistic images as the training continues. "
   ]
  },
  {
   "cell_type": "code",
   "execution_count": 14,
   "metadata": {},
   "outputs": [],
   "source": [
    "real = np.ones(shape=(batch_size, 1)) #craete a \"real\" array with values = 1 and size = 100 \n",
    "fake = np.zeros(shape=(batch_size, 1)) # craete a \"fake\" array with values = 0 and size = 100"
   ]
  },
  {
   "cell_type": "code",
   "execution_count": 15,
   "metadata": {},
   "outputs": [],
   "source": [
    "d_loss = [] #discriminator loss\n",
    "d_g_loss = [] #adversarial loss/generator loss"
   ]
  },
  {
   "cell_type": "markdown",
   "metadata": {},
   "source": [
    "## Training"
   ]
  },
  {
   "cell_type": "markdown",
   "metadata": {},
   "source": [
    "It's like Two player game: The Generator (forger) needs to learn how to create data in such a way that the Discriminator isn’t able to distinguish it as fake anymore. The competition between these two teams is what improves their knowledge, until the Generator succeeds in creating realistic data."
   ]
  },
  {
   "cell_type": "code",
   "execution_count": 16,
   "metadata": {},
   "outputs": [
    {
     "name": "stdout",
     "output_type": "stream",
     "text": [
      "WARNING:tensorflow:From /opt/conda/lib/python3.6/site-packages/tensorflow/python/ops/math_ops.py:3066: to_int32 (from tensorflow.python.ops.math_ops) is deprecated and will be removed in a future version.\n",
      "Instructions for updating:\n",
      "Use tf.cast instead.\n",
      "epoch = 1/100, d_loss=0.611, g_loss=1.832                                                                                                     \n"
     ]
    },
    {
     "data": {
      "image/png": "[encoded data removed]",
      "text/plain": [
       "<Figure size 432x288 with 10 Axes>"
      ]
     },
     "metadata": {},
     "output_type": "display_data"
    },
    {
     "name": "stdout",
     "output_type": "stream",
     "text": [
      "epoch = 2/100, d_loss=0.584, g_loss=1.849                                                                                                     \n",
      "epoch = 3/100, d_loss=0.460, g_loss=1.872                                                                                                     \n",
      "epoch = 4/100, d_loss=0.517, g_loss=1.623                                                                                                     \n",
      "epoch = 5/100, d_loss=0.426, g_loss=1.965                                                                                                     \n",
      "epoch = 6/100, d_loss=0.447, g_loss=1.783                                                                                                     \n",
      "epoch = 7/100, d_loss=0.499, g_loss=1.824                                                                                                     \n",
      "epoch = 8/100, d_loss=0.451, g_loss=1.763                                                                                                     \n",
      "epoch = 9/100, d_loss=0.504, g_loss=1.694                                                                                                     \n",
      "epoch = 10/100, d_loss=0.513, g_loss=1.659                                                                                                     \n",
      "epoch = 11/100, d_loss=0.504, g_loss=1.579                                                                                                     \n"
     ]
    },
    {
     "data": {
      "image/png": "[encoded data removed]",
      "text/plain": [
       "<Figure size 432x288 with 10 Axes>"
      ]
     },
     "metadata": {},
     "output_type": "display_data"
    },
    {
     "name": "stdout",
     "output_type": "stream",
     "text": [
      "epoch = 12/100, d_loss=0.570, g_loss=1.568                                                                                                     \n",
      "epoch = 13/100, d_loss=0.487, g_loss=1.544                                                                                                     \n",
      "epoch = 14/100, d_loss=0.494, g_loss=1.653                                                                                                     \n",
      "epoch = 15/100, d_loss=0.486, g_loss=1.543                                                                                                     \n",
      "epoch = 16/100, d_loss=0.468, g_loss=1.521                                                                                                     \n",
      "epoch = 17/100, d_loss=0.477, g_loss=1.710                                                                                                     \n",
      "epoch = 18/100, d_loss=0.531, g_loss=1.475                                                                                                     \n",
      "epoch = 19/100, d_loss=0.494, g_loss=1.666                                                                                                     \n",
      "epoch = 20/100, d_loss=0.487, g_loss=1.824                                                                                                     \n",
      "epoch = 21/100, d_loss=0.493, g_loss=1.835                                                                                                     \n"
     ]
    },
    {
     "data": {
      "image/png": "[encoded data removed]",
      "text/plain": [
       "<Figure size 432x288 with 10 Axes>"
      ]
     },
     "metadata": {},
     "output_type": "display_data"
    },
    {
     "name": "stdout",
     "output_type": "stream",
     "text": [
      "epoch = 22/100, d_loss=0.459, g_loss=1.746                                                                                                     \n",
      "epoch = 23/100, d_loss=0.456, g_loss=1.789                                                                                                     \n",
      "epoch = 24/100, d_loss=0.471, g_loss=1.651                                                                                                     \n",
      "epoch = 25/100, d_loss=0.425, g_loss=1.726                                                                                                     \n",
      "epoch = 26/100, d_loss=0.534, g_loss=1.422                                                                                                     \n",
      "epoch = 27/100, d_loss=0.466, g_loss=1.545                                                                                                     \n",
      "epoch = 28/100, d_loss=0.442, g_loss=1.718                                                                                                     \n",
      "epoch = 29/100, d_loss=0.546, g_loss=1.580                                                                                                     \n",
      "epoch = 30/100, d_loss=0.521, g_loss=1.640                                                                                                     \n",
      "epoch = 31/100, d_loss=0.506, g_loss=1.752                                                                                                     \n"
     ]
    },
    {
     "data": {
      "image/png": "[encoded data removed]",
      "text/plain": [
       "<Figure size 432x288 with 10 Axes>"
      ]
     },
     "metadata": {},
     "output_type": "display_data"
    },
    {
     "name": "stdout",
     "output_type": "stream",
     "text": [
      "epoch = 32/100, d_loss=0.476, g_loss=1.622                                                                                                     \n",
      "epoch = 33/100, d_loss=0.452, g_loss=1.735                                                                                                     \n",
      "epoch = 34/100, d_loss=0.489, g_loss=1.665                                                                                                     \n",
      "epoch = 35/100, d_loss=0.566, g_loss=1.538                                                                                                     \n",
      "epoch = 36/100, d_loss=0.461, g_loss=1.750                                                                                                     \n",
      "epoch = 37/100, d_loss=0.487, g_loss=1.601                                                                                                     \n",
      "epoch = 38/100, d_loss=0.450, g_loss=1.736                                                                                                     \n",
      "epoch = 39/100, d_loss=0.440, g_loss=1.864                                                                                                     \n",
      "epoch = 40/100, batch = 834/937, d_loss=0.591, g_loss=1.524                                                                                                     \r"
     ]
    }
   ],
   "source": [
    "for e in range(epochs + 1):\n",
    "    for i in range(len(X_train) // batch_size):\n",
    "        \n",
    "        # Train Discriminator weights\n",
    "        discriminator.trainable = True\n",
    "        \n",
    "        # Real samples\n",
    "                \n",
    "        X_batch = X_train[i*batch_size:(i+1)*batch_size]\n",
    "        # Defining size of batches per 64 in one batch\n",
    "        \n",
    "        d_loss_real = discriminator.train_on_batch(x=X_batch, y=real * (0.9))\n",
    "        # train_on_batch (predefined keras function) - Runs a single gradient update on a single batch of data.\n",
    "        # Pre train discriminator on  fake and real data  before starting the gan.\n",
    "        # helps to check if our compiled models run fine on our real data as well as the noised data.\n",
    "        \n",
    "       \n",
    "        # Fake Samples      \n",
    "                \n",
    "        z = np.random.normal(loc=0, scale=1, size=(batch_size, latent_dim))\n",
    "        # generate random noise as an input to initialize generator\n",
    "        \n",
    "        X_fake = generator.predict_on_batch(z)\n",
    "        # Generate fake MNIST images from noised input\n",
    "        \n",
    "        d_loss_fake = discriminator.train_on_batch(x=X_fake, y=fake)\n",
    "        # train discriminator on fake images generated by generator and fake data (array of 0 values)\n",
    "         \n",
    "        # Discriminator loss.... well what's this ?\n",
    "        # we only grabbed half the number of images that we specified with the real loss, \n",
    "        # we're take other half images from our generator for the other half of the batch:\n",
    "\n",
    "        \n",
    "        \n",
    "        d_loss_batch = 0.5 * (d_loss_real[0] + d_loss_fake[0])\n",
    "        \n",
    "        # Train Generator weights\n",
    "        \n",
    "        discriminator.trainable = False\n",
    "        # When we train the GAN we need to freeze the weights of the Discriminator. \n",
    "        # GAN is trained by alternating training of Discriminator and then training chained GAN model with Discriminator weights frozen\n",
    "        \n",
    "        # during training of gan weights of discriminator should be fixed We can enforce that by setting the trainable flag\n",
    "        \n",
    "        d_g_loss_batch = d_g.train_on_batch(x=z, y=real)\n",
    "        # training the GAN by alternating training of Discriminator \n",
    "        # training the chained GAN model with Discriminator’s weights freezed\n",
    "        \n",
    "        # We'll now train the GAN with mislabeled generator outputs ([z=Noise] with [real i.e. 1]). \n",
    "        # That means we will generate images from noise and assign a label to one of them while training with the GAN\n",
    "        \n",
    "        # But Why ?\n",
    "        \n",
    "        # we are using the newly trained discriminator to improve generated output\n",
    "        # GAN loss is going to describe the confusion of discriminator from generated outputs.\n",
    "\n",
    " # Rest is for visualization   \n",
    "        print('epoch = %d/%d, batch = %d/%d, d_loss=%.3f, g_loss=%.3f' % \n",
    "            (e + 1, epochs, i, len(X_train) // batch_size, d_loss_batch, d_g_loss_batch[0]),100*' ',end='\\r')\n",
    "    \n",
    "    d_loss.append(d_loss_batch)\n",
    "    d_g_loss.append(d_g_loss_batch[0])\n",
    "    print('epoch = %d/%d, d_loss=%.3f, g_loss=%.3f' % (e + 1, epochs, d_loss[-1], d_g_loss[-1]), 100*' ')\n",
    "\n",
    "    if e % 10 == 0:\n",
    "        samples = 10\n",
    "        x_fake = generator.predict(np.random.normal(loc=0, scale=1, size=(samples, latent_dim)))\n",
    "\n",
    "        for k in range(samples):\n",
    "            plt.subplot(2, 5, k+1)\n",
    "            plt.imshow(x_fake[k].reshape(28, 28), cmap='gray')\n",
    "            plt.xticks([])\n",
    "            plt.yticks([])\n",
    "\n",
    "        plt.tight_layout()\n",
    "        plt.show()"
   ]
  },
  {
   "cell_type": "code",
   "execution_count": 17,
   "metadata": {},
   "outputs": [
    {
     "data": {
      "image/png": "[encoded data removed]",
      "text/plain": [
       "<Figure size 432x288 with 1 Axes>"
      ]
     },
     "metadata": {},
     "output_type": "display_data"
    }
   ],
   "source": [
    "plt.plot(d_loss)\n",
    "plt.plot(d_g_loss)\n",
    "plt.title('Model loss')\n",
    "plt.ylabel('Loss')\n",
    "plt.xlabel('Epoch')\n",
    "plt.legend(['Discriminator', 'Adversarial'], loc='center right')\n",
    "plt.show()"
   ]
  }
 ],
 "metadata": {
  "kernelspec": {
   "display_name": "Python 3",
   "language": "python",
   "name": "python3"
  },
  "language_info": {
   "codemirror_mode": {
    "name": "ipython",
    "version": 3
   },
   "file_extension": ".py",
   "mimetype": "text/x-python",
   "name": "python",
   "nbconvert_exporter": "python",
   "pygments_lexer": "ipython3",
   "version": "3.6.4"
  }
 },
 "nbformat": 4,
 "nbformat_minor": 1
}
